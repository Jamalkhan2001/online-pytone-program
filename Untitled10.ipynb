{
 "cells": [
  {
   "cell_type": "code",
   "execution_count": 34,
   "id": "42b73873",
   "metadata": {},
   "outputs": [
    {
     "name": "stdout",
     "output_type": "stream",
     "text": [
      "Twinkle, twinkle, little star, \n",
      "         How I wonder what you are! \n",
      "                 Up above the world so high, \n",
      "                 Like a diamond in the sky.\n",
      "Twinkle, twinkle, little star, \n",
      "         How I wonder what you are \n"
     ]
    }
   ],
   "source": [
    "print(\"Twinkle, twinkle, little star, \\n         How I wonder what you are! \");\n",
    "print(\"                 Up above the world so high, \\n                 Like a diamond in the sky.\");\n",
    "print(\"Twinkle, twinkle, little star, \\n         How I wonder what you are \");"
   ]
  },
  {
   "cell_type": "code",
   "execution_count": null,
   "id": "4c5db68d",
   "metadata": {},
   "outputs": [],
   "source": []
  },
  {
   "cell_type": "code",
   "execution_count": 36,
   "id": "2ce82314",
   "metadata": {},
   "outputs": [
    {
     "name": "stdout",
     "output_type": "stream",
     "text": [
      "12:24 PM \n",
      "29/10/2021\n"
     ]
    }
   ],
   "source": [
    "print(\"12:24 PM \\n29/10/2021\");"
   ]
  },
  {
   "cell_type": "code",
   "execution_count": null,
   "id": "54346fff",
   "metadata": {},
   "outputs": [],
   "source": []
  },
  {
   "cell_type": "code",
   "execution_count": 48,
   "id": "f884f9ec",
   "metadata": {},
   "outputs": [
    {
     "name": "stdout",
     "output_type": "stream",
     "text": [
      "khan jamal\n"
     ]
    }
   ],
   "source": [
    "print(\"khan jamal\");"
   ]
  },
  {
   "cell_type": "code",
   "execution_count": 53,
   "id": "1279fce4",
   "metadata": {},
   "outputs": [
    {
     "name": "stdout",
     "output_type": "stream",
     "text": [
      "10\n"
     ]
    }
   ],
   "source": [
    "x = 5 ;\n",
    "y = 5 ;\n",
    "z = (x + y)\n",
    "print(z)"
   ]
  },
  {
   "cell_type": "code",
   "execution_count": 73,
   "id": "01d0a4b2",
   "metadata": {},
   "outputs": [
    {
     "name": "stdout",
     "output_type": "stream",
     "text": [
      "A+\n"
     ]
    }
   ],
   "source": [
    "maths = 50\n",
    "islamyate = 40\n",
    "pakstudy = 45\n",
    "total = 150\n",
    "percent = (maths + islamyate + pakstudy)/total*100\n",
    "if percent <100 and percent >=80 :\n",
    "    print(\"A+\")\n",
    "elif percent <80 and percent >=70 :\n",
    "    print(\"A\")\n",
    "elif percent <70 and percent >=60 :\n",
    "    print(\"B\")\n",
    "elif percent <60 and percent >=50 :\n",
    "    print(\"C\")\n",
    "elif percent <50 :\n",
    "    print(\"D\")\n",
    "else :   \n",
    "            print(\"fail\")\n"
   ]
  },
  {
   "cell_type": "code",
   "execution_count": null,
   "id": "702c6ca9",
   "metadata": {},
   "outputs": [],
   "source": [
    "\n"
   ]
  },
  {
   "cell_type": "code",
   "execution_count": 120,
   "id": "bec69616",
   "metadata": {},
   "outputs": [
    {
     "name": "stdout",
     "output_type": "stream",
     "text": [
      "[2001, 203]\n"
     ]
    }
   ],
   "source": [
    "#  length of list\n",
    "khan = [2001,203]\n",
    "print(khan)"
   ]
  },
  {
   "cell_type": "code",
   "execution_count": 147,
   "id": "c50cf0e9",
   "metadata": {},
   "outputs": [
    {
     "name": "stdout",
     "output_type": "stream",
     "text": [
      "[2001, 203]\n",
      "124\n",
      "12:24 PM \n",
      "29/10/2021\n"
     ]
    }
   ],
   "source": [
    "# sum all the numeric items in a list\n",
    "print(khan) ;\n",
    "print(z);\n",
    "print(\"12:24 PM \\n29/10/2021\");\n"
   ]
  },
  {
   "cell_type": "code",
   "execution_count": 148,
   "id": "6c017d75",
   "metadata": {},
   "outputs": [
    {
     "name": "stdout",
     "output_type": "stream",
     "text": [
      "124\n"
     ]
    }
   ],
   "source": [
    "# largest number\n",
    "print(z)"
   ]
  },
  {
   "cell_type": "code",
   "execution_count": 154,
   "id": "98aa647c",
   "metadata": {},
   "outputs": [
    {
     "ename": "SyntaxError",
     "evalue": "invalid syntax (<ipython-input-154-4671afdb1d1d>, line 4)",
     "output_type": "error",
     "traceback": [
      "\u001b[1;36m  File \u001b[1;32m\"<ipython-input-154-4671afdb1d1d>\"\u001b[1;36m, line \u001b[1;32m4\u001b[0m\n\u001b[1;33m    else:\u001b[0m\n\u001b[1;37m    ^\u001b[0m\n\u001b[1;31mSyntaxError\u001b[0m\u001b[1;31m:\u001b[0m invalid syntax\n"
     ]
    }
   ],
   "source": [
    "# elements of the list that are less than 5. \n",
    "arr = (1, 1, 2, 3, 5, 8, 13, 21, 34, 55, 89);\n",
    "if arr < 5 :\n",
    "    else:\n",
    "        print(arr) \n",
    "        i confused sorry !"
   ]
  },
  {
   "cell_type": "code",
   "execution_count": null,
   "id": "aa3aa487",
   "metadata": {},
   "outputs": [],
   "source": []
  }
 ],
 "metadata": {
  "kernelspec": {
   "display_name": "Python 3",
   "language": "python",
   "name": "python3"
  },
  "language_info": {
   "codemirror_mode": {
    "name": "ipython",
    "version": 3
   },
   "file_extension": ".py",
   "mimetype": "text/x-python",
   "name": "python",
   "nbconvert_exporter": "python",
   "pygments_lexer": "ipython3",
   "version": "3.8.8"
  }
 },
 "nbformat": 4,
 "nbformat_minor": 5
}
